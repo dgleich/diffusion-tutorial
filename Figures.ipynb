{
 "cells": [
  {
   "cell_type": "code",
   "execution_count": 26,
   "metadata": {
    "collapsed": false
   },
   "outputs": [
    {
     "name": "stderr",
     "output_type": "stream",
     "text": [
      "WARNING: replacing module DiffusionAlgorithms\n",
      "WARNING: replacing module DiffusionTutorialUtilities\n"
     ]
    },
    {
     "name": "stdout",
     "output_type": "stream",
     "text": [
      "  0.035915 seconds (45.80 k allocations: 2.850 MB)\n",
      "  0.003889 seconds (35 allocations: 639.281 KB)\n"
     ]
    }
   ],
   "source": [
    "using Compose\n",
    "include(\"diffusions.jl\")\n",
    "include(\"utils.jl\")\n",
    "using DiffusionAlgorithms\n",
    "using DiffusionTutorialUtilities\n",
    "utils = DiffusionTutorialUtilities\n",
    "\n",
    "A,xy = utils.load_graph_and_coords(\"U3A\")\n",
    "P = utils.normout!(A)\n",
    "n = size(A,1)\n",
    "t = 25.\n",
    "seed = 1500\n",
    "\n",
    "@time x = DiffusionAlgorithms.single_seed_stochastic_heat_kernel_series(P',t,seed)\n",
    "fig = utils.cgraphplot(A,xy,0.1*log(1/(max(minimum(x),1.e-12))*x),log(x+1.e-12),\n",
    "        utils._inferno_data)\n",
    "img = PDF(\"figures/hk-diffuse.pdf\",200mm,200mm)\n",
    "draw(img,fig)\n",
    "\n",
    "# find an adjacent node\n",
    "d = sum((xy - repmat(xy[seed,:],n,1)).^2,2)\n",
    "seed2 = sortperm(vec(d))[2]\n",
    "\n",
    "@time x = DiffusionAlgorithms.single_seed_stochastic_heat_kernel_series(P',t,seed2)\n",
    "fig = utils.cgraphplot(A,xy,0.1*log(1/(max(minimum(x),1.e-12))*x),log(x+1.e-12),\n",
    "        utils._inferno_data)\n",
    "img = PDF(\"figures/hk-diffuse-1.pdf\",200mm,200mm)\n",
    "draw(img,fig)\n"
   ]
  },
  {
   "cell_type": "code",
   "execution_count": 14,
   "metadata": {
    "collapsed": false
   },
   "outputs": [
    {
     "name": "stderr",
     "output_type": "stream",
     "text": [
      "WARNING: replacing module DiffusionAlgorithms\n",
      "WARNING: replacing module DiffusionTutorialUtilities\n"
     ]
    },
    {
     "name": "stdout",
     "output_type": "stream",
     "text": [
      "  0.040023 seconds (35.27 k allocations: 1.771 MB)\n"
     ]
    }
   ],
   "source": [
    "using Compose\n",
    "include(\"diffusions.jl\")\n",
    "include(\"utils.jl\")\n",
    "using DiffusionAlgorithms\n",
    "using DiffusionTutorialUtilities\n",
    "utils = DiffusionTutorialUtilities\n",
    "\n",
    "A,xy = utils.load_graph_and_coords(\"newman-netsci\")\n",
    "P = utils.normout!(A)\n",
    "n = size(A,1)\n",
    "alpha=0.5\n",
    "seed = 212\n",
    "\n",
    "@time x = DiffusionAlgorithms.single_seed_pagerank_power(P',alpha,seed)\n",
    "fig = utils.cgraphplot(A,xy,0.1*log(1/(max(minimum(x),1.e-8))*x),log(x+1.e-8),\n",
    "        utils._inferno_data)\n",
    "img = PDF(\"figures/ppr-diffuse.pdf\",150mm,150mm)\n",
    "draw(img,fig)"
   ]
  },
  {
   "cell_type": "code",
   "execution_count": 32,
   "metadata": {
    "collapsed": false
   },
   "outputs": [
    {
     "name": "stderr",
     "output_type": "stream",
     "text": [
      "WARNING: replacing module DiffusionAlgorithms\n",
      "WARNING: replacing module DiffusionTutorialUtilities\n"
     ]
    },
    {
     "name": "stdout",
     "output_type": "stream",
     "text": [
      "  0.126362 seconds (35.28 k allocations: 2.193 MB)\n"
     ]
    }
   ],
   "source": [
    "using Compose\n",
    "include(\"diffusions.jl\")\n",
    "include(\"utils.jl\")\n",
    "using DiffusionAlgorithms\n",
    "using DiffusionTutorialUtilities\n",
    "utils = DiffusionTutorialUtilities\n",
    "\n",
    "A,xy = utils.load_graph_and_coords(\"digits-1234-3\")\n",
    "P = utils.normout!(A)\n",
    "n = size(A,1)\n",
    "alpha=0.9\n",
    "seed = 2500\n",
    "\n",
    "@time x = DiffusionAlgorithms.single_seed_pagerank_power(P',alpha,seed)\n",
    "fig = utils.cgraphplot(A,xy,0.1*log(1/(max(minimum(x),1.e-8))*x),log(x+1.e-8),\n",
    "        utils._inferno_data)\n",
    "img = PDF(\"figures/ssl-example.pdf\",150mm,150mm)\n",
    "draw(img,fig)"
   ]
  }
 ],
 "metadata": {
  "kernelspec": {
   "display_name": "Julia 0.4.0",
   "language": "julia",
   "name": "julia-0.4"
  },
  "language_info": {
   "file_extension": ".jl",
   "mimetype": "application/julia",
   "name": "julia",
   "version": "0.4.0"
  }
 },
 "nbformat": 4,
 "nbformat_minor": 0
}
