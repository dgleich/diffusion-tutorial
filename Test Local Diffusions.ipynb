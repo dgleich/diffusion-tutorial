{
 "cells": [
  {
   "cell_type": "code",
   "execution_count": 10,
   "metadata": {
    "collapsed": false
   },
   "outputs": [
    {
     "name": "stderr",
     "output_type": "stream",
     "text": [
      "WARNING: replacing module DiffusionTutorialUtilities\n"
     ]
    },
    {
     "data": {
      "text/plain": [
       "(\n",
       "27x27 sparse matrix with 102 Float64 entries:\n",
       "\t[2 ,  1]  =  1.0\n",
       "\t[3 ,  1]  =  1.0\n",
       "\t[5 ,  1]  =  1.0\n",
       "\t[6 ,  1]  =  1.0\n",
       "\t[1 ,  2]  =  1.0\n",
       "\t[4 ,  2]  =  1.0\n",
       "\t[1 ,  3]  =  1.0\n",
       "\t[6 ,  3]  =  1.0\n",
       "\t[7 ,  3]  =  1.0\n",
       "\t[2 ,  4]  =  1.0\n",
       "\t⋮\n",
       "\t[14, 25]  =  1.0\n",
       "\t[23, 25]  =  1.0\n",
       "\t[24, 25]  =  1.0\n",
       "\t[26, 25]  =  1.0\n",
       "\t[27, 25]  =  1.0\n",
       "\t[23, 26]  =  1.0\n",
       "\t[24, 26]  =  1.0\n",
       "\t[25, 26]  =  1.0\n",
       "\t[23, 27]  =  1.0\n",
       "\t[24, 27]  =  1.0\n",
       "\t[25, 27]  =  1.0,\n",
       "\n",
       "27x2 Array{Float64,2}:\n",
       " 112.0   72.0\n",
       " 105.0  107.0\n",
       " 145.0  116.0\n",
       " 154.0   79.0\n",
       " 182.0  114.0\n",
       " 119.0  146.0\n",
       " 158.0  153.0\n",
       " 197.0   79.0\n",
       " 202.0  149.0\n",
       " 305.0  107.0\n",
       " 303.0  139.0\n",
       " 362.0  123.0\n",
       " 349.0   62.0\n",
       "   ⋮         \n",
       " 124.0  235.0\n",
       " 165.0  238.0\n",
       " 204.0  235.0\n",
       " 183.0  272.0\n",
       " 153.0  203.0\n",
       " 130.0  274.0\n",
       " 220.0  276.0\n",
       " 311.0  258.0\n",
       " 306.0  217.0\n",
       " 336.0  194.0\n",
       " 352.0  240.0\n",
       " 275.0  195.0)"
      ]
     },
     "execution_count": 10,
     "metadata": {},
     "output_type": "execute_result"
    }
   ],
   "source": [
    "include(\"utils.jl\")\n",
    "using DiffusionTutorialUtilities\n",
    "utils = DiffusionTutorialUtilities\n",
    "A,xy = utils.load_graph_and_coords(\"four_clusters\")\n"
   ]
  },
  {
   "cell_type": "markdown",
   "metadata": {},
   "source": [
    "~~~~\n",
    "Results from Matlab\n",
    "gsqexpmedseed: psivec[14] = 1.333333333333333259e+00 \n",
    "gsqexpmedseed: psivec[13] = 1.476190476190476275e+00 \n",
    "gsqexpmedseed: psivec[12] = 1.567765567765567747e+00 \n",
    "gsqexpmedseed: psivec[11] = 1.653235653235653135e+00 \n",
    "gsqexpmedseed: psivec[10] = 1.751470751470751264e+00 \n",
    "gsqexpmedseed: psivec[ 9] = 1.875735375735375632e+00 \n",
    "gsqexpmedseed: psivec[ 8] = 2.042075208741874981e+00 \n",
    "gsqexpmedseed: psivec[ 7] = 2.276297005463671752e+00 \n",
    "gsqexpmedseed: psivec[ 6] = 2.625926432474050998e+00 \n",
    "gsqexpmedseed: psivec[ 5] = 3.188272027061709313e+00 \n",
    "gsqexpmedseed: psivec[ 4] = 4.188272027061708869e+00 \n",
    "gsqexpmedseed: psivec[ 3] = 6.235340033827135642e+00 \n",
    "gsqexpmedseed: psivec[ 2] = 1.139223338971189214e+01 \n",
    "gsqexpmedseed: psivec[ 1] = 2.948058347427972947e+01 \n",
    "gsqexpmedseed: psivec[ 0] = 1.484029173713986438e+02 \n",
    "\n",
    "We get this seeds right\n",
    "\n",
    "gsqexpmedseed: pushcoeff[ 1] = 3.356178691466748062e-05 \n",
    "gsqexpmedseed: pushcoeff[ 2] = 8.685049075428625880e-05 \n",
    "gsqexpmedseed: pushcoeff[ 3] = 1.586795676444538244e-04 \n",
    "gsqexpmedseed: pushcoeff[ 4] = 2.362361026912510303e-04 \n",
    "gsqexpmedseed: pushcoeff[ 5] = 3.103314435800159877e-04 \n",
    "gsqexpmedseed: pushcoeff[ 6] = 3.767893298334516077e-04 \n",
    "gsqexpmedseed: pushcoeff[ 7] = 4.346625498821070181e-04 \n",
    "gsqexpmedseed: pushcoeff[ 8] = 4.845174440433207860e-04 \n",
    "gsqexpmedseed: pushcoeff[ 9] = 5.274843527946711285e-04 \n",
    "gsqexpmedseed: pushcoeff[10] = 5.649086973636321517e-04 \n",
    "gsqexpmedseed: pushcoeff[11] = 5.984755160266384171e-04 \n",
    "gsqexpmedseed: pushcoeff[12] = 6.311026859034799853e-04 \n",
    "gsqexpmedseed: pushcoeff[13] = 6.702529765922815227e-04 \n",
    "gsqexpmedseed: pushcoeff[14] = 7.420657955128831919e-04 \n",
    "gsqexpmedseed: pushcoeff[15] = 9.894210606838441113e-04 \n",
    "\n",
    "We seem to get these right too\n",
    "~~~~"
   ]
  },
  {
   "cell_type": "code",
   "execution_count": 12,
   "metadata": {
    "collapsed": false
   },
   "outputs": [
    {
     "data": {
      "text/plain": [
       "(27,27)"
      ]
     },
     "execution_count": 12,
     "metadata": {},
     "output_type": "execute_result"
    }
   ],
   "source": [
    "size(A)"
   ]
  },
  {
   "cell_type": "code",
   "execution_count": 14,
   "metadata": {
    "collapsed": false
   },
   "outputs": [
    {
     "name": "stderr",
     "output_type": "stream",
     "text": [
      "WARNING: replacing module DiffusionAlgorithms\n"
     ]
    },
    {
     "name": "stdout",
     "output_type": "stream",
     "text": [
      "hkvec[1] = 1.935901229830458803e+01\n",
      " true[1] = 1.935952648716621738e+01\n",
      "hkvec[1] = 9.405980777381179436e+00\n",
      " true[1] = 9.408867012443888456e+00\n"
     ]
    }
   ],
   "source": [
    "# what is wrong\n",
    "\n",
    "# that was the output from the Matlab code\n",
    "include(\"diffusions.jl\")\n",
    "using DiffusionAlgorithms\n",
    "hkvec = DiffusionAlgorithms.hk_relax_solution(A,5.,1,1.e-4)\n",
    "@printf \"hkvec[1] = %.18e\\n\" hkvec[1]\n",
    "@printf \" true[1] = %.18e\\n\" 19.359526487166217\n",
    "@printf \"hkvec[1] = %.18e\\n\" hkvec[2]\n",
    "@printf \" true[1] = %.18e\\n\" 9.408867012443888\n"
   ]
  },
  {
   "cell_type": "markdown",
   "metadata": {},
   "source": []
  },
  {
   "cell_type": "code",
   "execution_count": 23,
   "metadata": {
    "collapsed": false
   },
   "outputs": [
    {
     "name": "stderr",
     "output_type": "stream",
     "text": [
      "WARNING: replacing module DiffusionAlgorithms\n"
     ]
    },
    {
     "name": "stdout",
     "output_type": "stream",
     "text": [
      "True = 0.026124014066724\n",
      "x[0] = 0.026124014066724\n"
     ]
    }
   ],
   "source": [
    "A,xy = utils.load_graph_and_coords(\"newman-netsci\")\n",
    "include(\"diffusions.jl\")\n",
    "using DiffusionAlgorithms\n",
    "pprvec = DiffusionAlgorithms.ppr_push_solution(A,0.99,1,1.e-7)\n",
    "@printf(\"True = 0.026124014066724\\n\")\n",
    "@printf(\"x[0] = %.15f\\n\", pprvec[1]) # Matlab gave 0.026124014066724\n",
    "\n"
   ]
  },
  {
   "cell_type": "code",
   "execution_count": 29,
   "metadata": {
    "collapsed": false
   },
   "outputs": [
    {
     "name": "stderr",
     "output_type": "stream",
     "text": [
      "WARNING: replacing module DiffusionAlgorithms\n"
     ]
    },
    {
     "data": {
      "text/plain": [
       "(Set([7,4,9,2,3,5,8,6,1]),0.058823529411764705,(2.0,34.0))"
      ]
     },
     "execution_count": 29,
     "metadata": {},
     "output_type": "execute_result"
    }
   ],
   "source": [
    "#Test sweep cut\n",
    "A,xy = utils.load_graph_and_coords(\"four_clusters\")\n",
    "include(\"diffusions.jl\")\n",
    "using DiffusionAlgorithms\n",
    "pprvec = DiffusionAlgorithms.ppr_push_solution(A,0.99,1,1.e-7)\n",
    "DiffusionAlgorithms.degree_normalized_sweep_cut!(A,pprvec)"
   ]
  },
  {
   "cell_type": "code",
   "execution_count": 36,
   "metadata": {
    "collapsed": false
   },
   "outputs": [
    {
     "name": "stderr",
     "output_type": "stream",
     "text": [
      "WARNING: replacing module DiffusionAlgorithms\n"
     ]
    },
    {
     "name": "stdout",
     "output_type": "stream",
     "text": [
      "(bestset,bestcond) = DiffusionAlgorithms.ppr_grow(A,1) = (Set([7,4,9,2,3,5,8,6,1]),0.058823529411764705,(2.0,34.0))"
     ]
    },
    {
     "data": {
      "text/plain": [
       "(Set([7,4,9,2,3,8,5,6,1]),0.058823529411764705,(2.0,34.0))"
      ]
     },
     "execution_count": 36,
     "metadata": {},
     "output_type": "execute_result"
    },
    {
     "name": "stdout",
     "output_type": "stream",
     "text": [
      "\n",
      "(bestset,bestcond) = DiffusionAlgorithms.hk_grow(A,1) = (Set([7,4,9,2,3,8,5,6,1]),0.058823529411764705,(2.0,34.0))\n"
     ]
    }
   ],
   "source": [
    "#Test sweep cut\n",
    "A,xy = utils.load_graph_and_coords(\"four_clusters\")\n",
    "include(\"diffusions.jl\")\n",
    "using DiffusionAlgorithms\n",
    "@show bestset,bestcond = DiffusionAlgorithms.ppr_grow(A,1)\n",
    "@show bestset,bestcond = DiffusionAlgorithms.hk_grow(A,1)"
   ]
  }
 ],
 "metadata": {
  "kernelspec": {
   "display_name": "Julia 0.4.0",
   "language": "julia",
   "name": "julia-0.4"
  },
  "language_info": {
   "file_extension": ".jl",
   "mimetype": "application/julia",
   "name": "julia",
   "version": "0.4.0"
  }
 },
 "nbformat": 4,
 "nbformat_minor": 0
}
